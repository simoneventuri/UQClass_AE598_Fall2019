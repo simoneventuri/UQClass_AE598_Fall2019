{
 "cells": [
  {
   "cell_type": "markdown",
   "metadata": {
    "slideshow": {
     "slide_type": "slide"
    }
   },
   "source": [
    "# S. Venturi - UQ Analysis of a Mass-Spring-Damper System\n",
    "## Adapted from T. Oliver et al. - Validating Predicitons of Unobserved Quantities - 2014 (https://arxiv.org/abs/1404.7555)\n",
    "## Case 1 (Slide Nb 19 of the Presentation, Part I): \n",
    "\n",
    "### In this example, the physical model of the mass-spring-damper systems follows the equation $m \\ddot{x} + c \\dot{x} + k x = 0$, with $m$, $c$, and $k$ equal to some constants. \n",
    "### The computational model is formulated through the same ODE. However, the exact values of two of the coefficients ($c$ and $k$) are unknown, and they must be reconstructed from limited observations (i.e., from noisy position data sampled at discrete time steps).\n",
    "### What is the amount of uncertainty that we should expect on the predicted QoIs (e.g., position and velocity)?\n",
    "### How does this depend on the magnitude of the observational error?\n",
    "### Can we reconstruct the observational error?\n",
    "\n",
    "\n",
    "###################################################################################################################\n",
    "### Note: numpy, scipy, matplotlib, theano, pymc3 libraries are required. In order to install them, type from the terminal: pip3 install library-name. "
   ]
  },
  {
   "cell_type": "markdown",
   "metadata": {
    "slideshow": {
     "slide_type": "slide"
    }
   },
   "source": [
    "### Import Libraries"
   ]
  },
  {
   "cell_type": "code",
   "execution_count": 17,
   "metadata": {
    "slideshow": {
     "slide_type": "subslide"
    }
   },
   "outputs": [],
   "source": [
    "from scipy.integrate import ode\n",
    "import numpy\n",
    "import matplotlib.pyplot as plt\n",
    "import theano\n",
    "import theano.tensor as tt\n",
    "from theano.compile.ops import as_op\n",
    "import pymc3 as pm"
   ]
  },
  {
   "cell_type": "markdown",
   "metadata": {
    "slideshow": {
     "slide_type": "slide"
    }
   },
   "source": [
    "### Defining Simulation Parameters (Inital Conditions and Physical Coefficients)"
   ]
  },
  {
   "cell_type": "code",
   "execution_count": 18,
   "metadata": {
    "slideshow": {
     "slide_type": "subslide"
    }
   },
   "outputs": [],
   "source": [
    "y0     = [4.0, 0.0]\n",
    "t0     = 0.0\n",
    "tEnd   = 8.0\n",
    "dt     = 1.0\n",
    "dtData = 0.01\n",
    "t      = numpy.linspace(t0, tEnd, int(tEnd)+1)"
   ]
  },
  {
   "cell_type": "markdown",
   "metadata": {},
   "source": [
    "### Defining Ideal Model:     \n",
    "### $m \\ddot{x} + c \\dot{x} + k x = 0$,    \n",
    "### with \n",
    "### $\\begin{cases}\n",
    "      m=1.0\\\\\n",
    "      c=0.5\\\\\n",
    "      k=3.0\n",
    "    \\end{cases}$\n",
    "### $\\begin{cases}\n",
    "    x(0)=4.0 \\\\\n",
    "    \\dot{x}(0) = 0.0 \\\\\n",
    "    \\end{cases}$\n",
    "### and Sampling Clean Data Points"
   ]
  },
  {
   "cell_type": "code",
   "execution_count": 19,
   "metadata": {},
   "outputs": [
    {
     "name": "stderr",
     "output_type": "stream",
     "text": [
      "The PostScript backend does not support transparency; partially transparent artists will be rendered opaque.\n",
      "The PostScript backend does not support transparency; partially transparent artists will be rendered opaque.\n"
     ]
    },
    {
     "name": "stdout",
     "output_type": "stream",
     "text": [
      "Original Data Points =  [4.0, 0.005435215256307635, -2.4273300739118646, 0.5359585458920398, 1.353183169470094, -0.6256987850275578, -0.6817424871722215, 0.5309612334628241, 0.295539263391004]\n"
     ]
    },
    {
     "data": {
      "image/png": "[encoded data removed]",
      "text/plain": [
       "<Figure size 432x288 with 1 Axes>"
      ]
     },
     "metadata": {
      "needs_background": "light"
     },
     "output_type": "display_data"
    }
   ],
   "source": [
    "mOrig1 = 1.0\n",
    "mOrig2 = 3.0\n",
    "cOrig  = 0.5\n",
    "kOrig  = 3.0\n",
    "\n",
    "def fOrig(t, y, arg1):\n",
    "        return [y[1], -arg1[0]/arg1[2]*y[0]-arg1[1]/arg1[2]*y[1]]\n",
    "def jacOrig(t, y, arg1):\n",
    "        return [[0.0, 1.0], [-arg1[0]/arg1[2], -arg1[1]/arg1[2]]]\n",
    "    \n",
    "# For Mass = 1\n",
    "rOrig1 = ode(fOrig, jacOrig).set_integrator('vode', method='Adams', with_jacobian=True, atol=1.e-20)\n",
    "rOrig1.set_initial_value(y0, t0).set_f_params([kOrig, cOrig, mOrig1]).set_jac_params([kOrig, cOrig, mOrig1])\n",
    "tDataPlot = []\n",
    "xDataPlot = []\n",
    "vDataPlot = []\n",
    "tDataPlot.append(t0)\n",
    "xDataPlot.append(y0[0])\n",
    "vDataPlot.append(y0[1])\n",
    "while rOrig1.successful() and rOrig1.t <= tEnd:\n",
    "    rOrig1.integrate(rOrig1.t+dtData)\n",
    "    tDataPlot.append(rOrig1.t)\n",
    "    xDataPlot.append(numpy.real(rOrig1.y[0]))\n",
    "    vDataPlot.append(numpy.real(rOrig1.y[1]))\n",
    "\n",
    "## For Mass = 2\n",
    "#rOrig2 = ode(fOrig, jacOrig).set_integrator('vode', method='Adams', with_jacobian=True, atol=1.e-20)\n",
    "#rOrig1.set_initial_value(y0, t0).set_f_params([kOrig, cOrig, mOrig2]).set_jac_params([kOrig, cOrig, mOrig2])\n",
    "#tDataPlot.append(t0)\n",
    "#xDataPlot.append(y0[0])\n",
    "#vDataPlot.append(y0[1])\n",
    "#while rOrig2.successful() and rOrig2.t <= tEnd:\n",
    "#    rOrig2.integrate(rOrig2.t+dtData)\n",
    "#    tDataPlot.append(rOrig2.t)\n",
    "#    xDataPlot.append(numpy.real(rOrig2.y[0]))\n",
    "#    vDataPlot.append(numpy.real(rOrig2.y[1]))\n",
    "\n",
    "\n",
    "# For Mass = 1\n",
    "rOrig1 = ode(fOrig, jacOrig).set_integrator('vode', method='Adams', with_jacobian=True, atol=1.e-20)\n",
    "rOrig1.set_initial_value(y0, t0).set_f_params([kOrig, cOrig, mOrig1]).set_jac_params([kOrig, cOrig, mOrig1])\n",
    "tData = []\n",
    "xData = []\n",
    "vData = []\n",
    "tData.append(t0)\n",
    "xData.append(y0[0])\n",
    "vData.append(y0[1])\n",
    "while rOrig1.successful() and rOrig1.t < tEnd:\n",
    "    rOrig1.integrate(rOrig1.t+dt)\n",
    "    tData.append(rOrig1.t)\n",
    "    xData.append(numpy.real(rOrig1.y[0]))\n",
    "    vData.append(numpy.real(rOrig1.y[1]))\n",
    "\n",
    "## For Mass = 2\n",
    "#rOrig2 = ode(fOrig, jacOrig).set_integrator('vode', method='Adams', with_jacobian=True, atol=1.e-20)\n",
    "#rOrig2.set_initial_value(y0, t0).set_f_params([kOrig, cOrig, mOrig2]).set_jac_params([kOrig, cOrig, mOrig2])\n",
    "#while rOrig2.successful() and rOrig2.t < tEnd:\n",
    "#    rOrig2.integrate(rOrig2.t+dt)\n",
    "#    tData.append(rOrig2.t)\n",
    "#    xData.append(numpy.real(rOrig2.y[0]))\n",
    "#    vData.append(numpy.real(rOrig2.y[1]))\n",
    "\n",
    "#xData = numpy.array([4.0, 4.056287e-1, -1.917800, 7.331597e-2, 8.176825e-1, -1.129453e-1, -3.011407e-1, 9.303637e-2, 8.884368e-2])#, ...\n",
    "##                     1.705548, -1.634634, -2.127946, -12.8128642e-1, 1.269814, 8.507498e-1, -3.259694e-1, -7.080865e-1])\n",
    "#HalfLength     = int(numpy.size(tData)/2)\n",
    "#HalfLengthPlot = int(numpy.size(tDataPlot)/2)\n",
    "\n",
    "print('Original Data Points = ', xData)\n",
    "line1, = plt.plot(tDataPlot, xDataPlot,'b')\n",
    "#line1, = plt.plot(tDataPlot[0:HalfLengthPlot-1],xDataPlot[0:HalfLengthPlot-1],'b')\n",
    "line1.set_label('m = 1')\n",
    "plt.plot(tData,xData,'bo')\n",
    "#plt.plot(tData[0:HalfLength-1],xData[0:HalfLength-1],'bo')\n",
    "#line2, = plt.plot(tDataPlot[HalfLengthPlot:-1],xDataPlot[HalfLengthPlot:-1],'g')\n",
    "#line2.set_label('m = 2')\n",
    "#plt.plot(tData[HalfLength:-1],xData[HalfLength:-1],'go')\n",
    "plt.xlabel('time')\n",
    "plt.ylabel('Position')\n",
    "plt.legend()\n",
    "plt.savefig('Case0_Data', format='eps')\n",
    "plt.show()\n"
   ]
  },
  {
   "cell_type": "markdown",
   "metadata": {
    "slideshow": {
     "slide_type": "slide"
    }
   },
   "source": [
    "### Defining Ideal Model with Noise (i.e., Observation Error):    \n",
    "### $m \\ddot{x} + c \\dot{x} + k x = 0$,    \n",
    "### with \n",
    "### $\\begin{cases}\n",
    "      m=1.0\\\\\n",
    "      c=0.5\\\\\n",
    "      k=3.0\n",
    "    \\end{cases}$\n",
    "### $\\begin{cases}\n",
    "    x(0)=4.0 \\\\\n",
    "    \\dot{x}(0) = 0.0 \\\\\n",
    "    \\end{cases}$\n",
    "    \n",
    "### and Additive Noise: \n",
    "### $\\epsilon \\sim \\mathcal{N}(0, \\sigma_N^2 = 0.1^2)$;\n",
    "### Sampling Noisy Data Points"
   ]
  },
  {
   "cell_type": "code",
   "execution_count": 20,
   "metadata": {
    "slideshow": {
     "slide_type": "subslide"
    }
   },
   "outputs": [
    {
     "name": "stderr",
     "output_type": "stream",
     "text": [
      "The PostScript backend does not support transparency; partially transparent artists will be rendered opaque.\n",
      "The PostScript backend does not support transparency; partially transparent artists will be rendered opaque.\n"
     ]
    },
    {
     "name": "stdout",
     "output_type": "stream",
     "text": [
      "Noisy Data Points =  [4.0, -0.06020269550686734, -2.4435660259841945, 0.39659756948454494, 1.3628600527037391, -0.5579586133991701, -0.6982095386798165, 0.44820825036981615, 0.3046652156841545]\n"
     ]
    },
    {
     "data": {
      "image/png": "[encoded data removed]",
      "text/plain": [
       "<Figure size 432x288 with 1 Axes>"
      ]
     },
     "metadata": {
      "needs_background": "light"
     },
     "output_type": "display_data"
    }
   ],
   "source": [
    "mOrig1 = 1.0\n",
    "mOrig2 = 3.0\n",
    "cOrig  = 0.5\n",
    "kOrig  = 3.0\n",
    "\n",
    "SigmaN = 0.1\n",
    "\n",
    "def fOrig(t, y, arg1):\n",
    "        return [y[1], -arg1[0]/arg1[2]*y[0]-arg1[1]/arg1[2]*y[1]]\n",
    "def jacOrig(t, y, arg1):\n",
    "        return [[0.0, 1.0], [-arg1[0]/arg1[2], -arg1[1]/arg1[2]]]\n",
    "    \n",
    "# For Mass = 1\n",
    "rOrig1 = ode(fOrig, jacOrig).set_integrator('vode', method='Adams', with_jacobian=True, atol=1.e-20)\n",
    "rOrig1.set_initial_value(y0, t0).set_f_params([kOrig, cOrig, mOrig1]).set_jac_params([kOrig, cOrig, mOrig1])\n",
    "tDataNoisePlot = []\n",
    "xDataNoisePlot = []\n",
    "vDataNoisePlot = []\n",
    "tDataNoisePlot.append(t0)\n",
    "xDataNoisePlot.append(y0[0])\n",
    "vDataNoisePlot.append(y0[1])\n",
    "while rOrig1.successful() and rOrig1.t <= tEnd:\n",
    "    rOrig1.integrate(rOrig1.t+dtData)\n",
    "    tDataNoisePlot.append(rOrig1.t)\n",
    "    xDataNoisePlot.append(numpy.real(rOrig1.y[0]))\n",
    "    vDataNoisePlot.append(numpy.real(rOrig1.y[1]))\n",
    "\n",
    "## For Mass = 2\n",
    "#rOrig2 = ode(fOrig, jacOrig).set_integrator('vode', method='Adams', with_jacobian=True, atol=1.e-20)\n",
    "#rOrig1.set_initial_value(y0, t0).set_f_params([kOrig, cOrig, mOrig2]).set_jac_params([kOrig, cOrig, mOrig2])\n",
    "#tDataNoisePlot.append(t0)\n",
    "#xDataNoisePlot.append(y0[0])\n",
    "#vDataNoisePlot.append(y0[1])\n",
    "#while rOrig2.successful() and rOrig2.t <= tEnd:\n",
    "#    rOrig2.integrate(rOrig2.t+dtData)\n",
    "#    tDataNoisePlot.append(rOrig2.t)\n",
    "#    xDataNoisePlot.append(numpy.real(rOrig2.y[0]))\n",
    "#    vDataNoisePlot.append(numpy.real(rOrig2.y[1]))\n",
    "\n",
    "\n",
    "# For Mass = 1\n",
    "rOrig1 = ode(fOrig, jacOrig).set_integrator('vode', method='Adams', with_jacobian=True, atol=1.e-20)\n",
    "rOrig1.set_initial_value(y0, t0).set_f_params([kOrig, cOrig, mOrig1]).set_jac_params([kOrig, cOrig, mOrig1])\n",
    "tDataNoise = []\n",
    "xDataNoise = []\n",
    "vDataNoise = []\n",
    "tDataNoise.append(t0)\n",
    "xDataNoise.append(y0[0])\n",
    "vDataNoise.append(y0[1])\n",
    "while rOrig1.successful() and rOrig1.t < tEnd:\n",
    "    rOrig1.integrate(rOrig1.t+dt)\n",
    "    tDataNoise.append(rOrig1.t)\n",
    "    xDataNoise.append(numpy.real(rOrig1.y[0]))\n",
    "    vDataNoise.append(numpy.real(rOrig1.y[1]))\n",
    "\n",
    "xNoise         = numpy.random.normal(0.0, SigmaN, 8)\n",
    "xDataNoise[1:] = xDataNoise[1:] + xNoise\n",
    "\n",
    "## For Mass = 2\n",
    "#rOrig2 = ode(fOrig, jacOrig).set_integrator('vode', method='Adams', with_jacobian=True, atol=1.e-20)\n",
    "#rOrig2.set_initial_value(y0, t0).set_f_params([kOrig, cOrig, mOrig2]).set_jac_params([kOrig, cOrig, mOrig2])\n",
    "#while rOrig2.successful() and rOrig2.t < tEnd:\n",
    "#    rOrig2.integrate(rOrig2.t+dt)\n",
    "#    tDataNoise.append(rOrig2.t)\n",
    "#    xDataNoise.append(numpy.real(rOrig2.y[0]))\n",
    "#    vDataNoise.append(numpy.real(rOrig2.y[1]))\n",
    "\n",
    "#xDataNoise = numpy.array([4.0, 4.056287e-1, -1.917800, 7.331597e-2, 8.176825e-1, -1.129453e-1, -3.011407e-1, 9.303637e-2, 8.884368e-2])#, ...\n",
    "##                     1.705548, -1.634634, -2.127946, -12.8128642e-1, 1.269814, 8.507498e-1, -3.259694e-1, -7.080865e-1])\n",
    "#HalfLength     = int(numpy.size(tDataNoise)/2)\n",
    "#HalfLengthPlot = int(numpy.size(tDataNoisePlot)/2)\n",
    "\n",
    "print('Noisy Data Points = ', xDataNoise)\n",
    "line1, = plt.plot(tDataNoisePlot, xDataNoisePlot,'r')\n",
    "#line1, = plt.plot(tDataPlot[0:HalfLengthPlot-1],xDataPlot[0:HalfLengthPlot-1],'b')\n",
    "line1.set_label('m = 1')\n",
    "plt.plot(tDataNoise,xDataNoise,'ro')\n",
    "#plt.plot(tData[0:HalfLength-1],xData[0:HalfLength-1],'bo')\n",
    "#line2, = plt.plot(tDataPlot[HalfLengthPlot:-1],xDataPlot[HalfLengthPlot:-1],'g')\n",
    "#line2.set_label('m = 2')\n",
    "#plt.plot(tData[HalfLength:-1],xData[HalfLength:-1],'go')\n",
    "plt.xlabel('time')\n",
    "plt.ylabel('Position')\n",
    "plt.legend()\n",
    "plt.savefig('Case0_NoisyData', format='eps')\n",
    "plt.show()"
   ]
  },
  {
   "cell_type": "markdown",
   "metadata": {
    "slideshow": {
     "slide_type": "slide"
    }
   },
   "source": [
    "### Defining Computational Model (i.e., Some Missing Physics Represented through Uncertain Coefficients):\n",
    "### $m \\ddot{x} + c \\dot{x} + k x = 0$,    \n",
    "### with \n",
    "### $\\begin{cases}\n",
    "      m=1.0\\\\\n",
    "      c= ?\\\\\n",
    "      k= ?\\\\\n",
    "    \\end{cases}$\n",
    "### $\\begin{cases}\n",
    "    x(0)=4.0 \\\\\n",
    "    \\dot{x}(0) = 0.0 \\\\\n",
    "    \\end{cases}$\n",
    "    \n",
    "### and Additive Noise: \n",
    "### $\\epsilon \\sim \\mathcal{N}(0, \\sigma_L^2)$"
   ]
  },
  {
   "cell_type": "code",
   "execution_count": 21,
   "metadata": {
    "slideshow": {
     "slide_type": "subslide"
    }
   },
   "outputs": [],
   "source": [
    "# Model Form\n",
    "@as_op(itypes=[tt.dscalar, tt.dscalar], otypes=[tt.dvector])\n",
    "def th_forward_model(param1, param2):\n",
    "    y0, t0 = [4.0, 0.0], 0.0\n",
    "    tEnd   = 8.0\n",
    "    dt     = 1.0\n",
    "    def f(t, y, arg1):\n",
    "        return [y[1], -arg1[0]/arg1[2]*y[0]-arg1[1]/arg1[2]*y[1]]\n",
    "    def jac(t, y, arg1):\n",
    "        return [[0.0, 1.0], [-arg1[0]/arg1[2], -arg1[1]/arg1[2]]]\n",
    "    tPred = []\n",
    "    xPred = []\n",
    "    vPred = []\n",
    "    tPred.append(t0)\n",
    "    xPred.append(y0[0])\n",
    "    vPred.append(y0[1])\n",
    "    r1 = ode(f, jac).set_integrator('vode', method='Adams', with_jacobian=True, atol=1.e-20)\n",
    "    r1.set_initial_value(y0, t0).set_f_params([param1, param2, 1.0]).set_jac_params([param1, param2, 1.0])\n",
    "    while r1.successful() and r1.t < tEnd:\n",
    "        r1.integrate(r1.t+dt)\n",
    "        tPred.append(r1.t)\n",
    "        xPred.append(numpy.real(r1.y[0]))\n",
    "        vPred.append(numpy.real(r1.y[1]))\n",
    "    #r2 = ode(f, jac).set_integrator('vode', method='Adams', with_jacobian=True, atol=1.e-20)\n",
    "    #r2.set_initial_value(y0, t0).set_f_params([param1, param2, 2.0]).set_jac_params([param1, param2, 2.0])\n",
    "    #while r2.successful() and r2.t < tEnd:\n",
    "    #    r2.integrate(r2.t+dt)\n",
    "    #    tPred.append(r2.t)\n",
    "    #    xPred.append(numpy.real(r2.y[0]))\n",
    "    #    vPred.append(numpy.real(r2.y[1]))\n",
    "    xPred = numpy.array(xPred)\n",
    "    th_states = xPred\n",
    "    return th_states"
   ]
  },
  {
   "cell_type": "markdown",
   "metadata": {
    "slideshow": {
     "slide_type": "notes"
    }
   },
   "source": [
    "##############################################################################################################\n",
    "### Case 1.1: Reconstructing $k$ and $c$ from the Clean Data\n",
    "### Note: $\\sigma_L$ is fixed to $\\sigma_L = 0.01$"
   ]
  },
  {
   "cell_type": "code",
   "execution_count": null,
   "metadata": {},
   "outputs": [],
   "source": [
    "### Model 1\n",
    "Model1 = pm.Model()\n",
    "\n",
    "# Model Construction\n",
    "with Model1:\n",
    "    K1     = pm.Normal('K1',    1.0, numpy.sqrt(0.5))\n",
    "    c1     = pm.Lognormal('c1', 0.0, numpy.sqrt(0.5))\n",
    "    xPred1 = th_forward_model(K1, c1)\n",
    "    x1At0  = pm.Deterministic('x1@0',xPred1[0])\n",
    "    x1At1  = pm.Deterministic('x1@1',xPred1[1])\n",
    "    x1At2  = pm.Deterministic('x1@2',xPred1[2])\n",
    "    x1At3  = pm.Deterministic('x1@3',xPred1[3])\n",
    "    x1At4  = pm.Deterministic('x1@4',xPred1[4])\n",
    "    x1At5  = pm.Deterministic('x1@5',xPred1[5])\n",
    "    x1At6  = pm.Deterministic('x1@6',xPred1[6])\n",
    "    x1At7  = pm.Deterministic('x1@7',xPred1[7])\n",
    "    x1At8  = pm.Deterministic('x1@8',xPred1[8])\n",
    "    Sigma1 = 1.e-2\n",
    "    yLike1 = pm.Normal('yLike1', mu=xPred1, sd=Sigma1, observed=xData)\n",
    "\n",
    "# Model Calibration with Perfect Data\n",
    "with Model1:\n",
    "    trace1 = pm.sample(5000, step=pm.Metropolis(), tune=1000, cores=4)\n"
   ]
  },
  {
   "cell_type": "code",
   "execution_count": null,
   "metadata": {},
   "outputs": [],
   "source": [
    "# Plot Parameter Posterior Distributions\n",
    "with Model1:\n",
    "    trarr = pm.traceplot(trace1, varnames=['K1','c1'], lines={'K1':3.0, 'c1':0.5} );\n",
    "    plt.savefig('Case1_Model1_ParamsPosts', format='eps')\n",
    "    plt.show()"
   ]
  },
  {
   "cell_type": "code",
   "execution_count": null,
   "metadata": {},
   "outputs": [],
   "source": [
    "# Print Statistics\n",
    "with Model1:\n",
    "    print(pm.summary(trace1))"
   ]
  },
  {
   "cell_type": "code",
   "execution_count": null,
   "metadata": {},
   "outputs": [],
   "source": [
    "# Plot Output Posterior Distributions\n",
    "with Model1:\n",
    "    trarr = pm.traceplot(trace1, varnames=['x1@1','x1@2','x1@3','x1@4', 'x1@5','x1@6','x1@7','x1@8'], \n",
    "                  lines={'x1@1': xData[1], 'x1@2': xData[2], 'x1@3': xData[3], 'x1@4': xData[4], 'x1@5': xData[5], 'x1@6': xData[6], 'x1@7': xData[7], 'x1@8': xData[8]} );\n",
    "    plt.savefig('Case1_Model1_OutputPosts', format='eps')\n",
    "    plt.show()"
   ]
  },
  {
   "cell_type": "markdown",
   "metadata": {},
   "source": [
    "##############################################################################################################\n",
    "### Case 1.2: Reconstructing $k$ and $c$ from the Clean Data\n",
    "### Note: $\\sigma_L$ gets Calibrated as well"
   ]
  },
  {
   "cell_type": "code",
   "execution_count": 23,
   "metadata": {},
   "outputs": [
    {
     "name": "stderr",
     "output_type": "stream",
     "text": [
      "Multiprocess sampling (2 chains in 2 jobs)\n",
      "CompoundStep\n",
      ">Metropolis: [Sigma1]\n",
      ">Metropolis: [c1]\n",
      ">Metropolis: [K1]\n"
     ]
    },
    {
     "ename": "KeyboardInterrupt",
     "evalue": "",
     "output_type": "error",
     "traceback": [
      "\u001b[0;31m---------------------------------------------------------------------------\u001b[0m",
      "\u001b[0;31mKeyboardInterrupt\u001b[0m                         Traceback (most recent call last)",
      "\u001b[0;32m<ipython-input-23-ad1354d07566>\u001b[0m in \u001b[0;36m<module>\u001b[0;34m\u001b[0m\n\u001b[1;32m     21\u001b[0m \u001b[0;31m# Model Calibration with Noisy Data\u001b[0m\u001b[0;34m\u001b[0m\u001b[0;34m\u001b[0m\u001b[0;34m\u001b[0m\u001b[0m\n\u001b[1;32m     22\u001b[0m \u001b[0;32mwith\u001b[0m \u001b[0mModel1\u001b[0m\u001b[0;34m:\u001b[0m\u001b[0;34m\u001b[0m\u001b[0;34m\u001b[0m\u001b[0m\n\u001b[0;32m---> 23\u001b[0;31m     \u001b[0mtrace1\u001b[0m \u001b[0;34m=\u001b[0m \u001b[0mpm\u001b[0m\u001b[0;34m.\u001b[0m\u001b[0msample\u001b[0m\u001b[0;34m(\u001b[0m\u001b[0;36m5000\u001b[0m\u001b[0;34m,\u001b[0m \u001b[0mstep\u001b[0m\u001b[0;34m=\u001b[0m\u001b[0mpm\u001b[0m\u001b[0;34m.\u001b[0m\u001b[0mMetropolis\u001b[0m\u001b[0;34m(\u001b[0m\u001b[0;34m)\u001b[0m\u001b[0;34m,\u001b[0m \u001b[0mtune\u001b[0m\u001b[0;34m=\u001b[0m\u001b[0;36m1000\u001b[0m\u001b[0;34m,\u001b[0m \u001b[0mcores\u001b[0m\u001b[0;34m=\u001b[0m\u001b[0;36m2\u001b[0m\u001b[0;34m)\u001b[0m\u001b[0;34m\u001b[0m\u001b[0;34m\u001b[0m\u001b[0m\n\u001b[0m",
      "\u001b[0;32m/usr/local/lib/python3.8/site-packages/pymc3/sampling.py\u001b[0m in \u001b[0;36msample\u001b[0;34m(draws, step, init, n_init, start, trace, chain_idx, chains, cores, tune, progressbar, model, random_seed, discard_tuned_samples, compute_convergence_checks, callback, return_inferencedata, idata_kwargs, **kwargs)\u001b[0m\n\u001b[1;32m    520\u001b[0m         \u001b[0m_print_step_hierarchy\u001b[0m\u001b[0;34m(\u001b[0m\u001b[0mstep\u001b[0m\u001b[0;34m)\u001b[0m\u001b[0;34m\u001b[0m\u001b[0;34m\u001b[0m\u001b[0m\n\u001b[1;32m    521\u001b[0m         \u001b[0;32mtry\u001b[0m\u001b[0;34m:\u001b[0m\u001b[0;34m\u001b[0m\u001b[0;34m\u001b[0m\u001b[0m\n\u001b[0;32m--> 522\u001b[0;31m             \u001b[0mtrace\u001b[0m \u001b[0;34m=\u001b[0m \u001b[0m_mp_sample\u001b[0m\u001b[0;34m(\u001b[0m\u001b[0;34m**\u001b[0m\u001b[0msample_args\u001b[0m\u001b[0;34m)\u001b[0m\u001b[0;34m\u001b[0m\u001b[0;34m\u001b[0m\u001b[0m\n\u001b[0m\u001b[1;32m    523\u001b[0m         \u001b[0;32mexcept\u001b[0m \u001b[0mpickle\u001b[0m\u001b[0;34m.\u001b[0m\u001b[0mPickleError\u001b[0m\u001b[0;34m:\u001b[0m\u001b[0;34m\u001b[0m\u001b[0;34m\u001b[0m\u001b[0m\n\u001b[1;32m    524\u001b[0m             \u001b[0m_log\u001b[0m\u001b[0;34m.\u001b[0m\u001b[0mwarning\u001b[0m\u001b[0;34m(\u001b[0m\u001b[0;34m\"Could not pickle model, sampling singlethreaded.\"\u001b[0m\u001b[0;34m)\u001b[0m\u001b[0;34m\u001b[0m\u001b[0;34m\u001b[0m\u001b[0m\n",
      "\u001b[0;32m/usr/local/lib/python3.8/site-packages/pymc3/sampling.py\u001b[0m in \u001b[0;36m_mp_sample\u001b[0;34m(draws, tune, step, chains, cores, chain, random_seed, start, progressbar, trace, model, callback, **kwargs)\u001b[0m\n\u001b[1;32m   1409\u001b[0m         \u001b[0mtraces\u001b[0m\u001b[0;34m.\u001b[0m\u001b[0mappend\u001b[0m\u001b[0;34m(\u001b[0m\u001b[0mstrace\u001b[0m\u001b[0;34m)\u001b[0m\u001b[0;34m\u001b[0m\u001b[0;34m\u001b[0m\u001b[0m\n\u001b[1;32m   1410\u001b[0m \u001b[0;34m\u001b[0m\u001b[0m\n\u001b[0;32m-> 1411\u001b[0;31m     sampler = ps.ParallelSampler(\n\u001b[0m\u001b[1;32m   1412\u001b[0m         \u001b[0mdraws\u001b[0m\u001b[0;34m,\u001b[0m \u001b[0mtune\u001b[0m\u001b[0;34m,\u001b[0m \u001b[0mchains\u001b[0m\u001b[0;34m,\u001b[0m \u001b[0mcores\u001b[0m\u001b[0;34m,\u001b[0m \u001b[0mrandom_seed\u001b[0m\u001b[0;34m,\u001b[0m \u001b[0mstart\u001b[0m\u001b[0;34m,\u001b[0m \u001b[0mstep\u001b[0m\u001b[0;34m,\u001b[0m \u001b[0mchain\u001b[0m\u001b[0;34m,\u001b[0m \u001b[0mprogressbar\u001b[0m\u001b[0;34m\u001b[0m\u001b[0;34m\u001b[0m\u001b[0m\n\u001b[1;32m   1413\u001b[0m     )\n",
      "\u001b[0;32m/usr/local/lib/python3.8/site-packages/pymc3/parallel_sampling.py\u001b[0m in \u001b[0;36m__init__\u001b[0;34m(self, draws, tune, chains, cores, seeds, start_points, step_method, start_chain_num, progressbar)\u001b[0m\n\u001b[1;32m    368\u001b[0m             \u001b[0;32mraise\u001b[0m \u001b[0mValueError\u001b[0m\u001b[0;34m(\u001b[0m\u001b[0;34m\"Number of seeds and start_points must be %s.\"\u001b[0m \u001b[0;34m%\u001b[0m \u001b[0mchains\u001b[0m\u001b[0;34m)\u001b[0m\u001b[0;34m\u001b[0m\u001b[0;34m\u001b[0m\u001b[0m\n\u001b[1;32m    369\u001b[0m \u001b[0;34m\u001b[0m\u001b[0m\n\u001b[0;32m--> 370\u001b[0;31m         self._samplers = [\n\u001b[0m\u001b[1;32m    371\u001b[0m             ProcessAdapter(\n\u001b[1;32m    372\u001b[0m                 \u001b[0mdraws\u001b[0m\u001b[0;34m,\u001b[0m \u001b[0mtune\u001b[0m\u001b[0;34m,\u001b[0m \u001b[0mstep_method\u001b[0m\u001b[0;34m,\u001b[0m \u001b[0mchain\u001b[0m \u001b[0;34m+\u001b[0m \u001b[0mstart_chain_num\u001b[0m\u001b[0;34m,\u001b[0m \u001b[0mseed\u001b[0m\u001b[0;34m,\u001b[0m \u001b[0mstart\u001b[0m\u001b[0;34m\u001b[0m\u001b[0;34m\u001b[0m\u001b[0m\n",
      "\u001b[0;32m/usr/local/lib/python3.8/site-packages/pymc3/parallel_sampling.py\u001b[0m in \u001b[0;36m<listcomp>\u001b[0;34m(.0)\u001b[0m\n\u001b[1;32m    369\u001b[0m \u001b[0;34m\u001b[0m\u001b[0m\n\u001b[1;32m    370\u001b[0m         self._samplers = [\n\u001b[0;32m--> 371\u001b[0;31m             ProcessAdapter(\n\u001b[0m\u001b[1;32m    372\u001b[0m                 \u001b[0mdraws\u001b[0m\u001b[0;34m,\u001b[0m \u001b[0mtune\u001b[0m\u001b[0;34m,\u001b[0m \u001b[0mstep_method\u001b[0m\u001b[0;34m,\u001b[0m \u001b[0mchain\u001b[0m \u001b[0;34m+\u001b[0m \u001b[0mstart_chain_num\u001b[0m\u001b[0;34m,\u001b[0m \u001b[0mseed\u001b[0m\u001b[0;34m,\u001b[0m \u001b[0mstart\u001b[0m\u001b[0;34m\u001b[0m\u001b[0;34m\u001b[0m\u001b[0m\n\u001b[1;32m    373\u001b[0m             )\n",
      "\u001b[0;32m/usr/local/lib/python3.8/site-packages/pymc3/parallel_sampling.py\u001b[0m in \u001b[0;36m__init__\u001b[0;34m(self, draws, tune, step_method, chain, seed, start)\u001b[0m\n\u001b[1;32m    257\u001b[0m         )\n\u001b[1;32m    258\u001b[0m         \u001b[0;32mtry\u001b[0m\u001b[0;34m:\u001b[0m\u001b[0;34m\u001b[0m\u001b[0;34m\u001b[0m\u001b[0m\n\u001b[0;32m--> 259\u001b[0;31m             \u001b[0mself\u001b[0m\u001b[0;34m.\u001b[0m\u001b[0m_process\u001b[0m\u001b[0;34m.\u001b[0m\u001b[0mstart\u001b[0m\u001b[0;34m(\u001b[0m\u001b[0;34m)\u001b[0m\u001b[0;34m\u001b[0m\u001b[0;34m\u001b[0m\u001b[0m\n\u001b[0m\u001b[1;32m    260\u001b[0m         \u001b[0;32mexcept\u001b[0m \u001b[0mIOError\u001b[0m \u001b[0;32mas\u001b[0m \u001b[0me\u001b[0m\u001b[0;34m:\u001b[0m\u001b[0;34m\u001b[0m\u001b[0;34m\u001b[0m\u001b[0m\n\u001b[1;32m    261\u001b[0m             \u001b[0;31m# Something may have gone wrong during the fork / spawn\u001b[0m\u001b[0;34m\u001b[0m\u001b[0;34m\u001b[0m\u001b[0;34m\u001b[0m\u001b[0m\n",
      "\u001b[0;32m/usr/local/Cellar/python@3.8/3.8.5/Frameworks/Python.framework/Versions/3.8/lib/python3.8/multiprocessing/process.py\u001b[0m in \u001b[0;36mstart\u001b[0;34m(self)\u001b[0m\n\u001b[1;32m    119\u001b[0m                \u001b[0;34m'daemonic processes are not allowed to have children'\u001b[0m\u001b[0;34m\u001b[0m\u001b[0;34m\u001b[0m\u001b[0m\n\u001b[1;32m    120\u001b[0m         \u001b[0m_cleanup\u001b[0m\u001b[0;34m(\u001b[0m\u001b[0;34m)\u001b[0m\u001b[0;34m\u001b[0m\u001b[0;34m\u001b[0m\u001b[0m\n\u001b[0;32m--> 121\u001b[0;31m         \u001b[0mself\u001b[0m\u001b[0;34m.\u001b[0m\u001b[0m_popen\u001b[0m \u001b[0;34m=\u001b[0m \u001b[0mself\u001b[0m\u001b[0;34m.\u001b[0m\u001b[0m_Popen\u001b[0m\u001b[0;34m(\u001b[0m\u001b[0mself\u001b[0m\u001b[0;34m)\u001b[0m\u001b[0;34m\u001b[0m\u001b[0;34m\u001b[0m\u001b[0m\n\u001b[0m\u001b[1;32m    122\u001b[0m         \u001b[0mself\u001b[0m\u001b[0;34m.\u001b[0m\u001b[0m_sentinel\u001b[0m \u001b[0;34m=\u001b[0m \u001b[0mself\u001b[0m\u001b[0;34m.\u001b[0m\u001b[0m_popen\u001b[0m\u001b[0;34m.\u001b[0m\u001b[0msentinel\u001b[0m\u001b[0;34m\u001b[0m\u001b[0;34m\u001b[0m\u001b[0m\n\u001b[1;32m    123\u001b[0m         \u001b[0;31m# Avoid a refcycle if the target function holds an indirect\u001b[0m\u001b[0;34m\u001b[0m\u001b[0;34m\u001b[0m\u001b[0;34m\u001b[0m\u001b[0m\n",
      "\u001b[0;32m/usr/local/Cellar/python@3.8/3.8.5/Frameworks/Python.framework/Versions/3.8/lib/python3.8/multiprocessing/context.py\u001b[0m in \u001b[0;36m_Popen\u001b[0;34m(process_obj)\u001b[0m\n\u001b[1;32m    222\u001b[0m     \u001b[0;34m@\u001b[0m\u001b[0mstaticmethod\u001b[0m\u001b[0;34m\u001b[0m\u001b[0;34m\u001b[0m\u001b[0m\n\u001b[1;32m    223\u001b[0m     \u001b[0;32mdef\u001b[0m \u001b[0m_Popen\u001b[0m\u001b[0;34m(\u001b[0m\u001b[0mprocess_obj\u001b[0m\u001b[0;34m)\u001b[0m\u001b[0;34m:\u001b[0m\u001b[0;34m\u001b[0m\u001b[0;34m\u001b[0m\u001b[0m\n\u001b[0;32m--> 224\u001b[0;31m         \u001b[0;32mreturn\u001b[0m \u001b[0m_default_context\u001b[0m\u001b[0;34m.\u001b[0m\u001b[0mget_context\u001b[0m\u001b[0;34m(\u001b[0m\u001b[0;34m)\u001b[0m\u001b[0;34m.\u001b[0m\u001b[0mProcess\u001b[0m\u001b[0;34m.\u001b[0m\u001b[0m_Popen\u001b[0m\u001b[0;34m(\u001b[0m\u001b[0mprocess_obj\u001b[0m\u001b[0;34m)\u001b[0m\u001b[0;34m\u001b[0m\u001b[0;34m\u001b[0m\u001b[0m\n\u001b[0m\u001b[1;32m    225\u001b[0m \u001b[0;34m\u001b[0m\u001b[0m\n\u001b[1;32m    226\u001b[0m \u001b[0;32mclass\u001b[0m \u001b[0mDefaultContext\u001b[0m\u001b[0;34m(\u001b[0m\u001b[0mBaseContext\u001b[0m\u001b[0;34m)\u001b[0m\u001b[0;34m:\u001b[0m\u001b[0;34m\u001b[0m\u001b[0;34m\u001b[0m\u001b[0m\n",
      "\u001b[0;32m/usr/local/Cellar/python@3.8/3.8.5/Frameworks/Python.framework/Versions/3.8/lib/python3.8/multiprocessing/context.py\u001b[0m in \u001b[0;36m_Popen\u001b[0;34m(process_obj)\u001b[0m\n\u001b[1;32m    282\u001b[0m         \u001b[0;32mdef\u001b[0m \u001b[0m_Popen\u001b[0m\u001b[0;34m(\u001b[0m\u001b[0mprocess_obj\u001b[0m\u001b[0;34m)\u001b[0m\u001b[0;34m:\u001b[0m\u001b[0;34m\u001b[0m\u001b[0;34m\u001b[0m\u001b[0m\n\u001b[1;32m    283\u001b[0m             \u001b[0;32mfrom\u001b[0m \u001b[0;34m.\u001b[0m\u001b[0mpopen_spawn_posix\u001b[0m \u001b[0;32mimport\u001b[0m \u001b[0mPopen\u001b[0m\u001b[0;34m\u001b[0m\u001b[0;34m\u001b[0m\u001b[0m\n\u001b[0;32m--> 284\u001b[0;31m             \u001b[0;32mreturn\u001b[0m \u001b[0mPopen\u001b[0m\u001b[0;34m(\u001b[0m\u001b[0mprocess_obj\u001b[0m\u001b[0;34m)\u001b[0m\u001b[0;34m\u001b[0m\u001b[0;34m\u001b[0m\u001b[0m\n\u001b[0m\u001b[1;32m    285\u001b[0m \u001b[0;34m\u001b[0m\u001b[0m\n\u001b[1;32m    286\u001b[0m     \u001b[0;32mclass\u001b[0m \u001b[0mForkServerProcess\u001b[0m\u001b[0;34m(\u001b[0m\u001b[0mprocess\u001b[0m\u001b[0;34m.\u001b[0m\u001b[0mBaseProcess\u001b[0m\u001b[0;34m)\u001b[0m\u001b[0;34m:\u001b[0m\u001b[0;34m\u001b[0m\u001b[0;34m\u001b[0m\u001b[0m\n",
      "\u001b[0;32m/usr/local/Cellar/python@3.8/3.8.5/Frameworks/Python.framework/Versions/3.8/lib/python3.8/multiprocessing/popen_spawn_posix.py\u001b[0m in \u001b[0;36m__init__\u001b[0;34m(self, process_obj)\u001b[0m\n\u001b[1;32m     30\u001b[0m     \u001b[0;32mdef\u001b[0m \u001b[0m__init__\u001b[0m\u001b[0;34m(\u001b[0m\u001b[0mself\u001b[0m\u001b[0;34m,\u001b[0m \u001b[0mprocess_obj\u001b[0m\u001b[0;34m)\u001b[0m\u001b[0;34m:\u001b[0m\u001b[0;34m\u001b[0m\u001b[0;34m\u001b[0m\u001b[0m\n\u001b[1;32m     31\u001b[0m         \u001b[0mself\u001b[0m\u001b[0;34m.\u001b[0m\u001b[0m_fds\u001b[0m \u001b[0;34m=\u001b[0m \u001b[0;34m[\u001b[0m\u001b[0;34m]\u001b[0m\u001b[0;34m\u001b[0m\u001b[0;34m\u001b[0m\u001b[0m\n\u001b[0;32m---> 32\u001b[0;31m         \u001b[0msuper\u001b[0m\u001b[0;34m(\u001b[0m\u001b[0;34m)\u001b[0m\u001b[0;34m.\u001b[0m\u001b[0m__init__\u001b[0m\u001b[0;34m(\u001b[0m\u001b[0mprocess_obj\u001b[0m\u001b[0;34m)\u001b[0m\u001b[0;34m\u001b[0m\u001b[0;34m\u001b[0m\u001b[0m\n\u001b[0m\u001b[1;32m     33\u001b[0m \u001b[0;34m\u001b[0m\u001b[0m\n\u001b[1;32m     34\u001b[0m     \u001b[0;32mdef\u001b[0m \u001b[0mduplicate_for_child\u001b[0m\u001b[0;34m(\u001b[0m\u001b[0mself\u001b[0m\u001b[0;34m,\u001b[0m \u001b[0mfd\u001b[0m\u001b[0;34m)\u001b[0m\u001b[0;34m:\u001b[0m\u001b[0;34m\u001b[0m\u001b[0;34m\u001b[0m\u001b[0m\n",
      "\u001b[0;32m/usr/local/Cellar/python@3.8/3.8.5/Frameworks/Python.framework/Versions/3.8/lib/python3.8/multiprocessing/popen_fork.py\u001b[0m in \u001b[0;36m__init__\u001b[0;34m(self, process_obj)\u001b[0m\n\u001b[1;32m     17\u001b[0m         \u001b[0mself\u001b[0m\u001b[0;34m.\u001b[0m\u001b[0mreturncode\u001b[0m \u001b[0;34m=\u001b[0m \u001b[0;32mNone\u001b[0m\u001b[0;34m\u001b[0m\u001b[0;34m\u001b[0m\u001b[0m\n\u001b[1;32m     18\u001b[0m         \u001b[0mself\u001b[0m\u001b[0;34m.\u001b[0m\u001b[0mfinalizer\u001b[0m \u001b[0;34m=\u001b[0m \u001b[0;32mNone\u001b[0m\u001b[0;34m\u001b[0m\u001b[0;34m\u001b[0m\u001b[0m\n\u001b[0;32m---> 19\u001b[0;31m         \u001b[0mself\u001b[0m\u001b[0;34m.\u001b[0m\u001b[0m_launch\u001b[0m\u001b[0;34m(\u001b[0m\u001b[0mprocess_obj\u001b[0m\u001b[0;34m)\u001b[0m\u001b[0;34m\u001b[0m\u001b[0;34m\u001b[0m\u001b[0m\n\u001b[0m\u001b[1;32m     20\u001b[0m \u001b[0;34m\u001b[0m\u001b[0m\n\u001b[1;32m     21\u001b[0m     \u001b[0;32mdef\u001b[0m \u001b[0mduplicate_for_child\u001b[0m\u001b[0;34m(\u001b[0m\u001b[0mself\u001b[0m\u001b[0;34m,\u001b[0m \u001b[0mfd\u001b[0m\u001b[0;34m)\u001b[0m\u001b[0;34m:\u001b[0m\u001b[0;34m\u001b[0m\u001b[0;34m\u001b[0m\u001b[0m\n",
      "\u001b[0;32m/usr/local/Cellar/python@3.8/3.8.5/Frameworks/Python.framework/Versions/3.8/lib/python3.8/multiprocessing/popen_spawn_posix.py\u001b[0m in \u001b[0;36m_launch\u001b[0;34m(self, process_obj)\u001b[0m\n\u001b[1;32m     60\u001b[0m             \u001b[0mself\u001b[0m\u001b[0;34m.\u001b[0m\u001b[0msentinel\u001b[0m \u001b[0;34m=\u001b[0m \u001b[0mparent_r\u001b[0m\u001b[0;34m\u001b[0m\u001b[0;34m\u001b[0m\u001b[0m\n\u001b[1;32m     61\u001b[0m             \u001b[0;32mwith\u001b[0m \u001b[0mopen\u001b[0m\u001b[0;34m(\u001b[0m\u001b[0mparent_w\u001b[0m\u001b[0;34m,\u001b[0m \u001b[0;34m'wb'\u001b[0m\u001b[0;34m,\u001b[0m \u001b[0mclosefd\u001b[0m\u001b[0;34m=\u001b[0m\u001b[0;32mFalse\u001b[0m\u001b[0;34m)\u001b[0m \u001b[0;32mas\u001b[0m \u001b[0mf\u001b[0m\u001b[0;34m:\u001b[0m\u001b[0;34m\u001b[0m\u001b[0;34m\u001b[0m\u001b[0m\n\u001b[0;32m---> 62\u001b[0;31m                 \u001b[0mf\u001b[0m\u001b[0;34m.\u001b[0m\u001b[0mwrite\u001b[0m\u001b[0;34m(\u001b[0m\u001b[0mfp\u001b[0m\u001b[0;34m.\u001b[0m\u001b[0mgetbuffer\u001b[0m\u001b[0;34m(\u001b[0m\u001b[0;34m)\u001b[0m\u001b[0;34m)\u001b[0m\u001b[0;34m\u001b[0m\u001b[0;34m\u001b[0m\u001b[0m\n\u001b[0m\u001b[1;32m     63\u001b[0m         \u001b[0;32mfinally\u001b[0m\u001b[0;34m:\u001b[0m\u001b[0;34m\u001b[0m\u001b[0;34m\u001b[0m\u001b[0m\n\u001b[1;32m     64\u001b[0m             \u001b[0mfds_to_close\u001b[0m \u001b[0;34m=\u001b[0m \u001b[0;34m[\u001b[0m\u001b[0;34m]\u001b[0m\u001b[0;34m\u001b[0m\u001b[0;34m\u001b[0m\u001b[0m\n",
      "\u001b[0;31mKeyboardInterrupt\u001b[0m: "
     ]
    }
   ],
   "source": [
    "# Model 1\n",
    "Model1 = pm.Model()\n",
    "\n",
    "# Model Construction\n",
    "with Model1:\n",
    "    K1     = pm.Normal('K1',    1.0, numpy.sqrt(0.5))\n",
    "    c1     = pm.Lognormal('c1', 0.0, numpy.sqrt(0.5))\n",
    "    xPred1 = th_forward_model(K1, c1)\n",
    "    x1At0  = pm.Deterministic('x1@0',xPred1[0])\n",
    "    x1At1  = pm.Deterministic('x1@1',xPred1[1])\n",
    "    x1At2  = pm.Deterministic('x1@2',xPred1[2])\n",
    "    x1At3  = pm.Deterministic('x1@3',xPred1[3])\n",
    "    x1At4  = pm.Deterministic('x1@4',xPred1[4])\n",
    "    x1At5  = pm.Deterministic('x1@5',xPred1[5])\n",
    "    x1At6  = pm.Deterministic('x1@6',xPred1[6])\n",
    "    x1At7  = pm.Deterministic('x1@7',xPred1[7])\n",
    "    x1At8  = pm.Deterministic('x1@8',xPred1[8])\n",
    "    Sigma1 = pm.Lognormal('Sigma1', 0.0, 1.0)\n",
    "    yLike1 = pm.Normal('yLike1', mu=xPred1, sd=Sigma1, observed=xData)\n",
    "\n",
    "# Model Calibration with Noisy Data\n",
    "with Model1:\n",
    "    trace1 = pm.sample(5000, step=pm.Metropolis(), tune=1000, cores=2)"
   ]
  },
  {
   "cell_type": "code",
   "execution_count": null,
   "metadata": {},
   "outputs": [],
   "source": [
    "# Plot Parameter Posterior Distributions\n",
    "with Model1:\n",
    "    trarr = pm.traceplot(trace1, varnames=['K1','c1','Sigma1'], lines={'K1':3.0, 'c1':0.5, 'Sigma1': 0.0} );\n",
    "    plt.savefig('Case1_Model1_ParamsPosts', format='eps')\n",
    "    plt.show()"
   ]
  },
  {
   "cell_type": "code",
   "execution_count": null,
   "metadata": {},
   "outputs": [],
   "source": [
    "# Print Statistics\n",
    "with Model1:\n",
    "    print(pm.summary(trace1))"
   ]
  },
  {
   "cell_type": "code",
   "execution_count": null,
   "metadata": {},
   "outputs": [],
   "source": [
    "# Plot Output Posterior Distributions\n",
    "with Model1:\n",
    "    trarr = pm.traceplot(trace1, varnames=['x1@1','x1@2','x1@3','x1@4', 'x1@5','x1@6','x1@7','x1@8'], \n",
    "                  lines={'x1@1': xData[1], 'x1@2': xData[2], 'x1@3': xData[3], 'x1@4': xData[4], 'x1@5': xData[5], 'x1@6': xData[6], 'x1@7': xData[7], 'x1@8': xData[8]} );\n",
    "    plt.savefig('Case1_Model1_OutputPosts', format='eps')\n",
    "    plt.show()"
   ]
  },
  {
   "cell_type": "markdown",
   "metadata": {
    "slideshow": {
     "slide_type": "slide"
    }
   },
   "source": [
    "##############################################################################################################\n",
    "### Case 1.3: Reconstructing $k$ and $c$ from the Noisy Data\n",
    "### Note: $\\sigma_L$ gets Calibrated as well"
   ]
  },
  {
   "cell_type": "code",
   "execution_count": null,
   "metadata": {},
   "outputs": [],
   "source": [
    "# Model 2\n",
    "Model2 = pm.Model()\n",
    "\n",
    "# Model Construction\n",
    "with Model2:\n",
    "    K2     = pm.Normal('K2',    1.0, numpy.sqrt(0.5))\n",
    "    c2     = pm.Lognormal('c2', 0.0, numpy.sqrt(0.5))\n",
    "    xPred2 = th_forward_model(K2, c2)\n",
    "    x2At0  = pm.Deterministic('x2@0',xPred2[0])\n",
    "    x2At1  = pm.Deterministic('x2@1',xPred2[1])\n",
    "    x2At2  = pm.Deterministic('x2@2',xPred2[2])\n",
    "    x2At3  = pm.Deterministic('x2@3',xPred2[3])\n",
    "    x2At4  = pm.Deterministic('x2@4',xPred2[4])\n",
    "    x2At5  = pm.Deterministic('x2@5',xPred2[5])\n",
    "    x2At6  = pm.Deterministic('x2@6',xPred2[6])\n",
    "    x2At7  = pm.Deterministic('x2@7',xPred2[7])\n",
    "    x2At8  = pm.Deterministic('x2@8',xPred2[8])\n",
    "    Sigma2 = pm.Lognormal('Sigma2', 0.0, 1.0)\n",
    "    yLike2 = pm.Normal('yLike2', mu=xPred2, sd=Sigma2, observed=xDataNoise)\n",
    "\n",
    "# Model Calibration with Noisy Data\n",
    "with Model2:\n",
    "    trace2 = pm.sample(5000, step=pm.Metropolis(), tune=1000, cores=4)"
   ]
  },
  {
   "cell_type": "code",
   "execution_count": null,
   "metadata": {},
   "outputs": [],
   "source": [
    "# Plot Parameter Posterior Distributions\n",
    "with Model2:\n",
    "    trarr = pm.traceplot(trace2, varnames=['K2', 'c2', 'Sigma2'], lines={'K2': kOrig, 'c2': cOrig, 'Sigma2': SigmaN});\n",
    "    plt.savefig('Case0_Model2_ParamPosts', format='eps')\n",
    "    plt.show()"
   ]
  },
  {
   "cell_type": "code",
   "execution_count": null,
   "metadata": {},
   "outputs": [],
   "source": [
    "# Print Statistics\n",
    "with Model2:\n",
    "    print(pm.summary(trace2))"
   ]
  },
  {
   "cell_type": "code",
   "execution_count": null,
   "metadata": {},
   "outputs": [],
   "source": [
    "# Plot Output Posterior Distributions\n",
    "with Model2:\n",
    "    trarr = pm.traceplot(trace2, varnames=['x2@1','x2@2','x2@3','x2@4', 'x2@5','x2@6','x2@7','x2@8'], \n",
    "                  lines={'x2@1': xData[1], 'x2@2': xData[2], 'x2@3': xData[3], 'x2@4': xData[4], 'x2@5': xData[5], 'x2@6': xData[6], 'x2@7': xData[7], 'x2@8': xData[8]} );\n",
    "    plt.savefig('Case0_Model_OutputPosts', format='eps')\n",
    "    plt.show()"
   ]
  }
 ],
 "metadata": {
  "celltoolbar": "Slideshow",
  "kernelspec": {
   "display_name": "Python 3",
   "language": "python",
   "name": "python3"
  }
 },
 "nbformat": 4,
 "nbformat_minor": 2
}
